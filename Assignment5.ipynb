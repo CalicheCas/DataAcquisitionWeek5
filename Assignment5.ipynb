{
 "cells": [
  {
   "cell_type": "markdown",
   "metadata": {},
   "source": [
    "### Get pandas dataframes"
   ]
  },
  {
   "cell_type": "code",
   "execution_count": 1,
   "metadata": {},
   "outputs": [],
   "source": [
    "import pandas as pd\n",
    "import numpy as np\n",
    "import matplotlib.pyplot as plt\n",
    "\n",
    "airports = 'airports.csv'\n",
    "airlines = 'airlines.csv'\n",
    "planes = 'planes.csv'\n",
    "weather = 'weather.csv'\n",
    "\n",
    "airports_df = pd.read_csv(airports)\n",
    "weather_df = pd.read_csv(weather)"
   ]
  },
  {
   "cell_type": "code",
   "execution_count": 2,
   "metadata": {},
   "outputs": [
    {
     "data": {
      "text/plain": [
       "1458"
      ]
     },
     "execution_count": 2,
     "metadata": {},
     "output_type": "execute_result"
    }
   ],
   "source": [
    "airports_df.head()\n",
    "len(airports_df.index)"
   ]
  },
  {
   "cell_type": "code",
   "execution_count": 3,
   "metadata": {},
   "outputs": [
    {
     "data": {
      "text/html": [
       "<div>\n",
       "<style scoped>\n",
       "    .dataframe tbody tr th:only-of-type {\n",
       "        vertical-align: middle;\n",
       "    }\n",
       "\n",
       "    .dataframe tbody tr th {\n",
       "        vertical-align: top;\n",
       "    }\n",
       "\n",
       "    .dataframe thead th {\n",
       "        text-align: right;\n",
       "    }\n",
       "</style>\n",
       "<table border=\"1\" class=\"dataframe\">\n",
       "  <thead>\n",
       "    <tr style=\"text-align: right;\">\n",
       "      <th></th>\n",
       "      <th>faa</th>\n",
       "      <th>name</th>\n",
       "      <th>lat</th>\n",
       "      <th>lon</th>\n",
       "      <th>alt</th>\n",
       "      <th>tz</th>\n",
       "      <th>dst</th>\n",
       "      <th>tzone</th>\n",
       "    </tr>\n",
       "  </thead>\n",
       "  <tbody>\n",
       "    <tr>\n",
       "      <th>470</th>\n",
       "      <td>FBK</td>\n",
       "      <td>Ladd Aaf</td>\n",
       "      <td>64.8375</td>\n",
       "      <td>-147.614444</td>\n",
       "      <td>454</td>\n",
       "      <td>-9</td>\n",
       "      <td>A</td>\n",
       "      <td>America/Anchorage</td>\n",
       "    </tr>\n",
       "  </tbody>\n",
       "</table>\n",
       "</div>"
      ],
      "text/plain": [
       "     faa      name      lat         lon  alt  tz dst              tzone\n",
       "470  FBK  Ladd Aaf  64.8375 -147.614444  454  -9   A  America/Anchorage"
      ]
     },
     "execution_count": 3,
     "metadata": {},
     "output_type": "execute_result"
    }
   ],
   "source": [
    "maxLat = 64.85694\n",
    "minLat = 19.50139\n",
    "maxLon = -68.01197\n",
    "minLon = -161.75583\n",
    "\n",
    "#Filter out longitud to only inglude USA longitud and latitud range of USA\n",
    "usa_airports = airports_df[(airports_df['lon'] >= minLon) & (airports_df['lon'] <= maxLon) & (airports_df['lat'] >= minLat) & (airports_df['lat'] <= maxLat)]\n",
    "len(usa_airports.index)\n",
    "\n",
    "usa_airports[usa_airports.lat == usa_airports.lat.max()]\n"
   ]
  },
  {
   "cell_type": "markdown",
   "metadata": {},
   "source": [
    "### Northernmost airport in the United States in USA is Ladd Aaf [FBK]"
   ]
  },
  {
   "cell_type": "code",
   "execution_count": 4,
   "metadata": {},
   "outputs": [
    {
     "data": {
      "text/html": [
       "<div>\n",
       "<style scoped>\n",
       "    .dataframe tbody tr th:only-of-type {\n",
       "        vertical-align: middle;\n",
       "    }\n",
       "\n",
       "    .dataframe tbody tr th {\n",
       "        vertical-align: top;\n",
       "    }\n",
       "\n",
       "    .dataframe thead th {\n",
       "        text-align: right;\n",
       "    }\n",
       "</style>\n",
       "<table border=\"1\" class=\"dataframe\">\n",
       "  <thead>\n",
       "    <tr style=\"text-align: right;\">\n",
       "      <th></th>\n",
       "      <th>faa</th>\n",
       "      <th>name</th>\n",
       "      <th>lat</th>\n",
       "      <th>lon</th>\n",
       "      <th>alt</th>\n",
       "      <th>tz</th>\n",
       "      <th>dst</th>\n",
       "      <th>tzone</th>\n",
       "    </tr>\n",
       "  </thead>\n",
       "  <tbody>\n",
       "    <tr>\n",
       "      <th>259</th>\n",
       "      <td>CAR</td>\n",
       "      <td>Caribou Muni</td>\n",
       "      <td>46.8715</td>\n",
       "      <td>-68.017917</td>\n",
       "      <td>626</td>\n",
       "      <td>-5</td>\n",
       "      <td>A</td>\n",
       "      <td>America/New_York</td>\n",
       "    </tr>\n",
       "  </tbody>\n",
       "</table>\n",
       "</div>"
      ],
      "text/plain": [
       "     faa          name      lat        lon  alt  tz dst             tzone\n",
       "259  CAR  Caribou Muni  46.8715 -68.017917  626  -5   A  America/New_York"
      ]
     },
     "execution_count": 4,
     "metadata": {},
     "output_type": "execute_result"
    }
   ],
   "source": [
    "usa_airports[usa_airports.lon == usa_airports.lon.max()]\n"
   ]
  },
  {
   "cell_type": "markdown",
   "metadata": {},
   "source": [
    "### Easternmost airport in the United States is Caribou Muni [CAR]"
   ]
  },
  {
   "cell_type": "code",
   "execution_count": 5,
   "metadata": {},
   "outputs": [
    {
     "data": {
      "text/html": [
       "<div>\n",
       "<style scoped>\n",
       "    .dataframe tbody tr th:only-of-type {\n",
       "        vertical-align: middle;\n",
       "    }\n",
       "\n",
       "    .dataframe tbody tr th {\n",
       "        vertical-align: top;\n",
       "    }\n",
       "\n",
       "    .dataframe thead th {\n",
       "        text-align: right;\n",
       "    }\n",
       "</style>\n",
       "<table border=\"1\" class=\"dataframe\">\n",
       "  <thead>\n",
       "    <tr style=\"text-align: right;\">\n",
       "      <th></th>\n",
       "      <th>origin</th>\n",
       "      <th>year</th>\n",
       "      <th>month</th>\n",
       "      <th>day</th>\n",
       "      <th>hour</th>\n",
       "      <th>temp</th>\n",
       "      <th>dewp</th>\n",
       "      <th>humid</th>\n",
       "      <th>wind_dir</th>\n",
       "      <th>wind_speed</th>\n",
       "      <th>wind_gust</th>\n",
       "      <th>precip</th>\n",
       "      <th>pressure</th>\n",
       "      <th>visib</th>\n",
       "      <th>time_hour</th>\n",
       "    </tr>\n",
       "  </thead>\n",
       "  <tbody>\n",
       "    <tr>\n",
       "      <th>0</th>\n",
       "      <td>EWR</td>\n",
       "      <td>2013</td>\n",
       "      <td>1</td>\n",
       "      <td>1</td>\n",
       "      <td>1</td>\n",
       "      <td>39.02</td>\n",
       "      <td>26.06</td>\n",
       "      <td>59.37</td>\n",
       "      <td>270.0</td>\n",
       "      <td>10.35702</td>\n",
       "      <td>NaN</td>\n",
       "      <td>0.0</td>\n",
       "      <td>1012.0</td>\n",
       "      <td>10.0</td>\n",
       "      <td>2013-01-01T06:00:00Z</td>\n",
       "    </tr>\n",
       "    <tr>\n",
       "      <th>1</th>\n",
       "      <td>EWR</td>\n",
       "      <td>2013</td>\n",
       "      <td>1</td>\n",
       "      <td>1</td>\n",
       "      <td>2</td>\n",
       "      <td>39.02</td>\n",
       "      <td>26.96</td>\n",
       "      <td>61.63</td>\n",
       "      <td>250.0</td>\n",
       "      <td>8.05546</td>\n",
       "      <td>NaN</td>\n",
       "      <td>0.0</td>\n",
       "      <td>1012.3</td>\n",
       "      <td>10.0</td>\n",
       "      <td>2013-01-01T07:00:00Z</td>\n",
       "    </tr>\n",
       "    <tr>\n",
       "      <th>2</th>\n",
       "      <td>EWR</td>\n",
       "      <td>2013</td>\n",
       "      <td>1</td>\n",
       "      <td>1</td>\n",
       "      <td>3</td>\n",
       "      <td>39.02</td>\n",
       "      <td>28.04</td>\n",
       "      <td>64.43</td>\n",
       "      <td>240.0</td>\n",
       "      <td>11.50780</td>\n",
       "      <td>NaN</td>\n",
       "      <td>0.0</td>\n",
       "      <td>1012.5</td>\n",
       "      <td>10.0</td>\n",
       "      <td>2013-01-01T08:00:00Z</td>\n",
       "    </tr>\n",
       "    <tr>\n",
       "      <th>3</th>\n",
       "      <td>EWR</td>\n",
       "      <td>2013</td>\n",
       "      <td>1</td>\n",
       "      <td>1</td>\n",
       "      <td>4</td>\n",
       "      <td>39.92</td>\n",
       "      <td>28.04</td>\n",
       "      <td>62.21</td>\n",
       "      <td>250.0</td>\n",
       "      <td>12.65858</td>\n",
       "      <td>NaN</td>\n",
       "      <td>0.0</td>\n",
       "      <td>1012.2</td>\n",
       "      <td>10.0</td>\n",
       "      <td>2013-01-01T09:00:00Z</td>\n",
       "    </tr>\n",
       "    <tr>\n",
       "      <th>4</th>\n",
       "      <td>EWR</td>\n",
       "      <td>2013</td>\n",
       "      <td>1</td>\n",
       "      <td>1</td>\n",
       "      <td>5</td>\n",
       "      <td>39.02</td>\n",
       "      <td>28.04</td>\n",
       "      <td>64.43</td>\n",
       "      <td>260.0</td>\n",
       "      <td>12.65858</td>\n",
       "      <td>NaN</td>\n",
       "      <td>0.0</td>\n",
       "      <td>1011.9</td>\n",
       "      <td>10.0</td>\n",
       "      <td>2013-01-01T10:00:00Z</td>\n",
       "    </tr>\n",
       "  </tbody>\n",
       "</table>\n",
       "</div>"
      ],
      "text/plain": [
       "  origin  year  month  day  hour   temp   dewp  humid  wind_dir  wind_speed  \\\n",
       "0    EWR  2013      1    1     1  39.02  26.06  59.37     270.0    10.35702   \n",
       "1    EWR  2013      1    1     2  39.02  26.96  61.63     250.0     8.05546   \n",
       "2    EWR  2013      1    1     3  39.02  28.04  64.43     240.0    11.50780   \n",
       "3    EWR  2013      1    1     4  39.92  28.04  62.21     250.0    12.65858   \n",
       "4    EWR  2013      1    1     5  39.02  28.04  64.43     260.0    12.65858   \n",
       "\n",
       "   wind_gust  precip  pressure  visib             time_hour  \n",
       "0        NaN     0.0    1012.0   10.0  2013-01-01T06:00:00Z  \n",
       "1        NaN     0.0    1012.3   10.0  2013-01-01T07:00:00Z  \n",
       "2        NaN     0.0    1012.5   10.0  2013-01-01T08:00:00Z  \n",
       "3        NaN     0.0    1012.2   10.0  2013-01-01T09:00:00Z  \n",
       "4        NaN     0.0    1011.9   10.0  2013-01-01T10:00:00Z  "
      ]
     },
     "execution_count": 5,
     "metadata": {},
     "output_type": "execute_result"
    }
   ],
   "source": [
    "weather_df.head()"
   ]
  },
  {
   "cell_type": "code",
   "execution_count": 6,
   "metadata": {},
   "outputs": [
    {
     "data": {
      "text/plain": [
       "origin            0\n",
       "year              0\n",
       "month             0\n",
       "day               0\n",
       "hour              0\n",
       "temp              1\n",
       "dewp              1\n",
       "humid             1\n",
       "wind_dir        460\n",
       "wind_speed        4\n",
       "wind_gust     20778\n",
       "precip            0\n",
       "pressure       2729\n",
       "visib             0\n",
       "time_hour         0\n",
       "dtype: int64"
      ]
     },
     "execution_count": 6,
     "metadata": {},
     "output_type": "execute_result"
    }
   ],
   "source": [
    "weather_df.isnull().sum()"
   ]
  },
  {
   "cell_type": "code",
   "execution_count": 7,
   "metadata": {},
   "outputs": [],
   "source": [
    "weather_n = weather_df[(weather_df.year == 2013) & (weather_df.month == 2) & (weather_df.day == 12)]\n",
    "weather_n = weather_n.dropna(subset = ['wind_gust', 'wind_speed'])"
   ]
  },
  {
   "cell_type": "code",
   "execution_count": 8,
   "metadata": {},
   "outputs": [
    {
     "data": {
      "text/html": [
       "<div>\n",
       "<style scoped>\n",
       "    .dataframe tbody tr th:only-of-type {\n",
       "        vertical-align: middle;\n",
       "    }\n",
       "\n",
       "    .dataframe tbody tr th {\n",
       "        vertical-align: top;\n",
       "    }\n",
       "\n",
       "    .dataframe thead th {\n",
       "        text-align: right;\n",
       "    }\n",
       "</style>\n",
       "<table border=\"1\" class=\"dataframe\">\n",
       "  <thead>\n",
       "    <tr style=\"text-align: right;\">\n",
       "      <th></th>\n",
       "      <th>origin</th>\n",
       "      <th>year</th>\n",
       "      <th>month</th>\n",
       "      <th>day</th>\n",
       "      <th>hour</th>\n",
       "      <th>temp</th>\n",
       "      <th>dewp</th>\n",
       "      <th>humid</th>\n",
       "      <th>wind_dir</th>\n",
       "      <th>wind_speed</th>\n",
       "      <th>wind_gust</th>\n",
       "      <th>precip</th>\n",
       "      <th>pressure</th>\n",
       "      <th>visib</th>\n",
       "      <th>time_hour</th>\n",
       "    </tr>\n",
       "  </thead>\n",
       "  <tbody>\n",
       "    <tr>\n",
       "      <th>18417</th>\n",
       "      <td>LGA</td>\n",
       "      <td>2013</td>\n",
       "      <td>2</td>\n",
       "      <td>12</td>\n",
       "      <td>2</td>\n",
       "      <td>42.98</td>\n",
       "      <td>26.06</td>\n",
       "      <td>50.94</td>\n",
       "      <td>290.0</td>\n",
       "      <td>23.0156</td>\n",
       "      <td>31.07106</td>\n",
       "      <td>0.0</td>\n",
       "      <td>1007.1</td>\n",
       "      <td>10.0</td>\n",
       "      <td>2013-02-12T07:00:00Z</td>\n",
       "    </tr>\n",
       "  </tbody>\n",
       "</table>\n",
       "</div>"
      ],
      "text/plain": [
       "      origin  year  month  day  hour   temp   dewp  humid  wind_dir  \\\n",
       "18417    LGA  2013      2   12     2  42.98  26.06  50.94     290.0   \n",
       "\n",
       "       wind_speed  wind_gust  precip  pressure  visib             time_hour  \n",
       "18417     23.0156   31.07106     0.0    1007.1   10.0  2013-02-12T07:00:00Z  "
      ]
     },
     "execution_count": 8,
     "metadata": {},
     "output_type": "execute_result"
    }
   ],
   "source": [
    "weather_n[(weather_n.wind_gust == weather_n.wind_gust.max()) & (weather_n.wind_speed == weather_n.wind_speed.max())]"
   ]
  },
  {
   "cell_type": "markdown",
   "metadata": {},
   "source": [
    "### On February 12th, 2013, LGA airport had the windiest weather"
   ]
  }
 ],
 "metadata": {
  "kernelspec": {
   "display_name": "Python 3",
   "language": "python",
   "name": "python3"
  },
  "language_info": {
   "codemirror_mode": {
    "name": "ipython",
    "version": 3
   },
   "file_extension": ".py",
   "mimetype": "text/x-python",
   "name": "python",
   "nbconvert_exporter": "python",
   "pygments_lexer": "ipython3",
   "version": "3.7.3"
  }
 },
 "nbformat": 4,
 "nbformat_minor": 2
}
